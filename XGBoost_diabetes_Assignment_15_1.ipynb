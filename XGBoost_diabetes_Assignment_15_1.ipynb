{
  "cells": [
    {
      "cell_type": "markdown",
      "metadata": {
        "deletable": false,
        "editable": false,
        "id": "jG788--CyExN",
        "nbgrader": {
          "checksum": "ca1410c71aeb7a63448473656448359a",
          "grade": false,
          "grade_id": "cell-012f0dc9a6f6d67b",
          "locked": true,
          "schema_version": 1,
          "solution": false
        }
      },
      "source": [
        "# Module Import"
      ]
    },
    {
      "cell_type": "code",
      "execution_count": null,
      "metadata": {
        "deletable": false,
        "editable": false,
        "id": "G8bltmBFJYz0",
        "nbgrader": {
          "checksum": "4a9ea567916fa9abc166ea3788f5341a",
          "grade": false,
          "grade_id": "cell-6fe9a77442bf5576",
          "locked": true,
          "schema_version": 1,
          "solution": false
        }
      },
      "outputs": [],
      "source": [
        "import numpy as np\n",
        "import pandas as pd\n",
        "import matplotlib.pyplot as plt\n",
        "\n",
        "from datetime import datetime\n",
        "import warnings \n",
        "import xgboost\n",
        "from sklearn.metrics import accuracy_score, confusion_matrix\n",
        "from sklearn.metrics import auc\n",
        "from sklearn.metrics import roc_auc_score\n",
        "from sklearn.model_selection import train_test_split\n",
        "from sklearn.metrics import mean_squared_error, r2_score\n",
        "\n",
        "warnings.simplefilter(action=\"ignore\", category=UserWarning)"
      ]
    },
    {
      "cell_type": "markdown",
      "metadata": {
        "deletable": false,
        "editable": false,
        "id": "FogyAYe1x87M",
        "nbgrader": {
          "checksum": "a920bef4d7a71f28ea459be523287720",
          "grade": false,
          "grade_id": "cell-a1d5c840f46c5338",
          "locked": true,
          "schema_version": 1,
          "solution": false
        }
      },
      "source": [
        "## Dataset Import"
      ]
    },
    {
      "cell_type": "markdown",
      "metadata": {
        "deletable": false,
        "editable": false,
        "id": "ECRJiTWPBAKi",
        "nbgrader": {
          "checksum": "6e5a7a6892d92ec03b9d971e278d6c08",
          "grade": false,
          "grade_id": "cell-7630349a10ddbf40",
          "locked": true,
          "schema_version": 1,
          "solution": false
        }
      },
      "source": [
        "Using the Diabetes dataset."
      ]
    },
    {
      "cell_type": "code",
      "execution_count": null,
      "metadata": {
        "colab": {
          "base_uri": "https://localhost:8080/"
        },
        "deletable": false,
        "executionInfo": {
          "elapsed": 20245,
          "status": "ok",
          "timestamp": 1675033854476,
          "user": {
            "displayName": "Domingo Genao",
            "userId": "16575500860980135990"
          },
          "user_tz": 300
        },
        "id": "WzT0FmjFNjva",
        "nbgrader": {
          "checksum": "12c90a7c96c33d0b7abf260c30c3d7f2",
          "grade": false,
          "grade_id": "cell-84104bc2ef0c3d62",
          "locked": false,
          "schema_version": 1,
          "solution": true
        },
        "outputId": "722baafd-b267-474f-f52d-9bfe56211304"
      },
      "outputs": [],
      "source": [
        "# Read in the diabetes.csv dataset into \"df\" \n",
        "# YOUR CODEHERE\n",
        "df =  pd.read_csv(\"diabetes.csv\", index_col= False )"
      ]
    },
    {
      "cell_type": "code",
      "execution_count": null,
      "metadata": {
        "deletable": false,
        "editable": false,
        "id": "n38gY_0gJivd",
        "nbgrader": {
          "checksum": "af3fb33006a39b61f7c5581493d09b49",
          "grade": true,
          "grade_id": "cell-84b3faf9d559818b",
          "locked": true,
          "points": 1,
          "schema_version": 1,
          "solution": false
        }
      },
      "outputs": [],
      "source": []
    },
    {
      "cell_type": "code",
      "execution_count": null,
      "metadata": {
        "colab": {
          "base_uri": "https://localhost:8080/"
        },
        "deletable": false,
        "editable": false,
        "executionInfo": {
          "elapsed": 26,
          "status": "ok",
          "timestamp": 1675033855223,
          "user": {
            "displayName": "Domingo Genao",
            "userId": "16575500860980135990"
          },
          "user_tz": 300
        },
        "id": "PlmFmwdX8Qfl",
        "nbgrader": {
          "checksum": "dca04a94cf130fa833c1626d3d4b93e5",
          "grade": false,
          "grade_id": "cell-b11d7862b43eb1f9",
          "locked": true,
          "schema_version": 1,
          "solution": false
        },
        "outputId": "95d87cff-ce4e-4327-d08f-ebe1ff255c98"
      },
      "outputs": [],
      "source": [
        "df.info()"
      ]
    },
    {
      "cell_type": "code",
      "execution_count": null,
      "metadata": {
        "colab": {
          "base_uri": "https://localhost:8080/",
          "height": 237
        },
        "deletable": false,
        "editable": false,
        "executionInfo": {
          "elapsed": 25,
          "status": "ok",
          "timestamp": 1675033855225,
          "user": {
            "displayName": "Domingo Genao",
            "userId": "16575500860980135990"
          },
          "user_tz": 300
        },
        "id": "dA0BhU6gJ5cj",
        "nbgrader": {
          "checksum": "bf006ae4b4e548a575a015f6591ec7d2",
          "grade": false,
          "grade_id": "cell-fd3a1f7c75c6a5e7",
          "locked": true,
          "schema_version": 1,
          "solution": false
        },
        "outputId": "dbe5b385-1a53-4c5f-c888-121caa668c48"
      },
      "outputs": [],
      "source": [
        "df.head(6)"
      ]
    },
    {
      "cell_type": "code",
      "execution_count": null,
      "metadata": {
        "colab": {
          "base_uri": "https://localhost:8080/"
        },
        "deletable": false,
        "executionInfo": {
          "elapsed": 24,
          "status": "ok",
          "timestamp": 1675033855226,
          "user": {
            "displayName": "Domingo Genao",
            "userId": "16575500860980135990"
          },
          "user_tz": 300
        },
        "id": "5KgU2bXyOFF2",
        "nbgrader": {
          "checksum": "3e71e8baa407436c72e6fae8f17c006a",
          "grade": false,
          "grade_id": "cell-d948ad77bce8b96d",
          "locked": false,
          "schema_version": 1,
          "solution": true
        },
        "outputId": "8fa68d7b-4bcc-4593-ccfc-dd4c24937e6f"
      },
      "outputs": [],
      "source": [
        "# Find the number of outcomes for both positive and negative. Normalize the result to get a precentage. \n",
        "# Assign the output to \"outcomes\"\n",
        "# YOUR CODE HERE\n",
        "outcomes = df.Outcome.value_counts(normalize=True)\n",
        "print(outcomes)"
      ]
    },
    {
      "cell_type": "code",
      "execution_count": null,
      "metadata": {
        "deletable": false,
        "editable": false,
        "nbgrader": {
          "checksum": "7146f65e8c664741548b77d361dcb0f4",
          "grade": true,
          "grade_id": "cell-489484c766f55943",
          "locked": true,
          "points": 1,
          "schema_version": 1,
          "solution": false
        }
      },
      "outputs": [],
      "source": []
    },
    {
      "cell_type": "markdown",
      "metadata": {
        "deletable": false,
        "editable": false,
        "id": "yrewHH7y8KDe",
        "nbgrader": {
          "checksum": "f68e556294f3f8fdfe09ffcaf4dded94",
          "grade": false,
          "grade_id": "cell-db6efbe034f49c42",
          "locked": true,
          "schema_version": 1,
          "solution": false
        }
      },
      "source": [
        "## Training and Test Datasets"
      ]
    },
    {
      "cell_type": "markdown",
      "metadata": {
        "deletable": false,
        "editable": false,
        "id": "o8af35eyn8GB",
        "nbgrader": {
          "checksum": "0a24623d52546c71abbc0b82c5d2e37b",
          "grade": false,
          "grade_id": "cell-1455f1c379746719",
          "locked": true,
          "schema_version": 1,
          "solution": false
        }
      },
      "source": [
        "Let's split the data 70/30 into a training set (which we will use to build models) and a test set (on which we will evaluate any model we build)."
      ]
    },
    {
      "cell_type": "code",
      "execution_count": null,
      "metadata": {
        "deletable": false,
        "nbgrader": {
          "checksum": "981e35bca77d256b6de0eda70478c83e",
          "grade": true,
          "grade_id": "cell-252667f943d14ef1",
          "locked": false,
          "points": 0,
          "schema_version": 1,
          "solution": true
        }
      },
      "outputs": [],
      "source": [
        "# Set \"X\" to all independent variables and set \"y\" to the Outcome variable\n",
        "# YOUR CODE HERE\n",
        "\n",
        "# Set \"X\" to all independent variables and set \"y\" to the Outcome variable\n",
        "X = df.drop('Outcome', axis=1)  # X contains all columns except 'Outcome'\n",
        "y = df['Outcome']  # y contains the 'Outcome' column\n",
        "\n",
        "# Split the data into training and test sets (70% training, 30% testing)\n",
        "X_train, X_test, y_train, y_test = train_test_split(X, y, test_size=0.3, random_state=42)"
      ]
    },
    {
      "cell_type": "code",
      "execution_count": null,
      "metadata": {
        "deletable": false,
        "editable": false,
        "nbgrader": {
          "checksum": "166cecdc802788c5be327dc56267b710",
          "grade": true,
          "grade_id": "cell-52ef8f2ea2ab376a",
          "locked": true,
          "points": 1,
          "schema_version": 1,
          "solution": false
        }
      },
      "outputs": [],
      "source": []
    },
    {
      "cell_type": "code",
      "execution_count": null,
      "metadata": {
        "deletable": false,
        "editable": false,
        "nbgrader": {
          "checksum": "c010e89b7f13e857bc4c5a4fce084030",
          "grade": false,
          "grade_id": "cell-23567eb2a531a7c4",
          "locked": true,
          "schema_version": 1,
          "solution": false
        }
      },
      "outputs": [],
      "source": [
        "# Encode string class values as integers to avoid errors in newer versions of XGBoost\n",
        "from sklearn.preprocessing import LabelEncoder\n",
        "label_encoder = LabelEncoder()\n",
        "label_encoder = label_encoder.fit(y)\n",
        "y = label_encoder.transform(y)"
      ]
    },
    {
      "cell_type": "code",
      "execution_count": null,
      "metadata": {
        "deletable": false,
        "nbgrader": {
          "checksum": "a822f0d56bae6b0fb66f9473636ae87a",
          "grade": false,
          "grade_id": "cell-0bb555ad393382e7",
          "locked": false,
          "schema_version": 1,
          "solution": true
        }
      },
      "outputs": [],
      "source": [
        "# Split data into training and test set: \"X_train, X_test, y_train, y_test\"\n",
        "# Test size should be 0.3 with random_state set to 7\n",
        "# Set \"eval_set\" to the combination of X_test and y_test\n",
        "# YOUR CODE HERE\n",
        "# Split the data into training and test sets (test size = 0.3, random_state = 7)\n",
        "X_train, X_test, y_train, y_test = train_test_split(X, y, test_size=0.3, random_state=7)\n",
        "\n",
        "# Set \"eval_set\" to the combination of X_test and y_test\n",
        "eval_set = [(X_test, y_test)]\n",
        "print(X_train.shape, X_test.shape)"
      ]
    },
    {
      "cell_type": "code",
      "execution_count": null,
      "metadata": {
        "deletable": false,
        "editable": false,
        "nbgrader": {
          "checksum": "9422745fbcd0afc7811d05f04d077edd",
          "grade": true,
          "grade_id": "cell-17c521909fb809aa",
          "locked": true,
          "points": 2,
          "schema_version": 1,
          "solution": false
        }
      },
      "outputs": [],
      "source": []
    },
    {
      "cell_type": "code",
      "execution_count": null,
      "metadata": {
        "deletable": false,
        "nbgrader": {
          "checksum": "fbc4279db12567abe1e1a8ab37f8f267",
          "grade": false,
          "grade_id": "cell-94253767767a3a32",
          "locked": false,
          "schema_version": 1,
          "solution": true
        }
      },
      "outputs": [],
      "source": [
        "print('Initializing xgboost.sklearn.XGBClassifier and starting training...')\n",
        "\n",
        "#set \"st\" to the current datetime\n",
        "# YOUR CODE HERE\n",
        "\n",
        "st = datetime.now()\n",
        "# Use xgboost.sklearn.XGBClassifier to create a model called \"clf\" with the following parameters:\n",
        "#     objective: \"binary:logistic\" \n",
        "#     learning_rate: 0.05 \n",
        "#     seed: 9616 \n",
        "#     max_depth: 20 \n",
        "#     gamma: 10 \n",
        "#     n_estimators: 500\n",
        "# YOUR CODE HERE\n",
        "clf = xgboost.sklearn.XGBClassifier(\n",
        "    objective=\"binary:logistic\",\n",
        "    learning_rate=0.05,\n",
        "    seed=9616,\n",
        "    max_depth=20,\n",
        "    gamma=10,\n",
        "    n_estimators=500)\n",
        "\n",
        "\n",
        "# Fit the model with training data. Also use the following parameters:\n",
        "#     early_stopping_rounds: 20 \n",
        "#     eval_metric: \"auc\"\n",
        "#     eval_set: eval_set\n",
        "#     verbose: False\n",
        "# YOUR CODE HERE\n",
        "clf.fit(X_train, y_train, early_stopping_rounds=20, eval_metric=\"auc\", eval_set=eval_set, verbose=False)\n",
        "\n",
        "\n",
        "print(datetime.now()-st)\n",
        "\n",
        "# set \"y_pred\" to the clf predictions on the test dataset. \n",
        "# YOUR CODE HERE\n",
        "y_pred = clf.predict(X_test)\n",
        "\n",
        "# Get the accuracy score of the model set the output to \"accuracy\".\n",
        "# YOUR CODE HERE\n",
        "# from sklearn.metrics import accuracy_score\n",
        "accuracy = accuracy_score(np.array(y_test).flatten(), y_pred)\n",
        "print(\"Accuracy: %.10f%%\" % (accuracy * 100.0))\n",
        "\n",
        "# Get the ROC-AUC score for the model. \n",
        "# YOUR CODE HERE\n",
        "# from sklearn.metrics import roc_auc_score\n",
        "\n",
        "accuracy_per_roc_auc = roc_auc_score(np.array(y_test).flatten(), y_pred)\n",
        "print(\"ROC-AUC: %.10f%%\" % (accuracy_per_roc_auc * 100))\n",
        "\n"
      ]
    },
    {
      "cell_type": "code",
      "execution_count": null,
      "metadata": {
        "deletable": false,
        "editable": false,
        "nbgrader": {
          "checksum": "22a9667f1686803422e202ede5e71426",
          "grade": true,
          "grade_id": "cell-b0cdc6ebe254cf29",
          "locked": true,
          "points": 5,
          "schema_version": 1,
          "solution": false
        }
      },
      "outputs": [],
      "source": [
        "\n"
      ]
    },
    {
      "cell_type": "markdown",
      "metadata": {
        "deletable": false,
        "editable": false,
        "nbgrader": {
          "checksum": "f7f772c78fe794d04cdf21d80abb6bf1",
          "grade": false,
          "grade_id": "cell-d77bf3809e323ef3",
          "locked": true,
          "schema_version": 1,
          "solution": false
        }
      },
      "source": [
        "#### View the results of your model"
      ]
    },
    {
      "cell_type": "code",
      "execution_count": null,
      "metadata": {
        "colab": {
          "base_uri": "https://localhost:8080/",
          "height": 312
        },
        "deletable": false,
        "editable": false,
        "executionInfo": {
          "elapsed": 205,
          "status": "ok",
          "timestamp": 1675033855592,
          "user": {
            "displayName": "Domingo Genao",
            "userId": "16575500860980135990"
          },
          "user_tz": 300
        },
        "id": "lLtgBOFOS2JB",
        "nbgrader": {
          "checksum": "37d4bbbe63ad4695e6e10a595a2d4d6a",
          "grade": false,
          "grade_id": "cell-bab595f4798d54dc",
          "locked": true,
          "schema_version": 1,
          "solution": false
        },
        "outputId": "6e73c0b2-fa71-463e-eecc-32fe0ab90475"
      },
      "outputs": [],
      "source": [
        "xgboost.plot_importance(clf)"
      ]
    }
  ],
  "metadata": {
    "colab": {
      "provenance": []
    },
    "kernelspec": {
      "display_name": "Python 3",
      "language": "python",
      "name": "python3"
    },
    "language_info": {
      "codemirror_mode": {
        "name": "ipython",
        "version": 3
      },
      "file_extension": ".py",
      "mimetype": "text/x-python",
      "name": "python",
      "nbconvert_exporter": "python",
      "pygments_lexer": "ipython3",
      "version": "3.6.9"
    }
  },
  "nbformat": 4,
  "nbformat_minor": 1
}